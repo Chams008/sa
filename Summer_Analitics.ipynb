{
 "cells": [
  {
   "cell_type": "code",
   "execution_count": 2,
   "id": "7abc45fc-47af-4c1c-992b-e0be2c2c5c55",
   "metadata": {},
   "outputs": [],
   "source": [
    "import pandas as pd\n",
    "import numpy as np\n",
    "import matplotlib.pyplot as plt\n",
    "import seaborn as sns\n",
    "from sklearn.model_selection import train_test_split\n",
    "from sklearn.preprocessing import StandardScaler\n",
    "from sklearn.svm import SVC\n",
    "from sklearn.metrics import classification_report, confusion_matrix, accuracy_score\n",
    "from sklearn.impute import KNNImputer\n",
    "from sklearn.linear_model import LogisticRegression\n",
    "from sklearn import metrics"
   ]
  },
  {
   "cell_type": "code",
   "execution_count": 3,
   "id": "96aaa350-86db-4cdf-9cfb-743baeb3416e",
   "metadata": {},
   "outputs": [],
   "source": [
    "data= pd.read_csv('training_set_features.csv')\n",
    "labels= pd.read_csv('training_set_labels.csv')\n",
    "\n",
    "data.drop(columns=['marital_status','employment_occupation','employment_industry','hhs_geo_region','marital_status'],inplace=True)\n",
    "\n",
    "object_columns = [c for c in data.columns if pd.api.types.is_object_dtype(data[c])]\n",
    "\n",
    "df= pd.concat((data.drop(columns=object_columns),pd.get_dummies(data[object_columns]).astype(int)),axis=1)\n",
    "\n",
    "\n",
    "x= np.array(df.drop('respondent_id',axis=1))\n",
    "y=np.array(labels.drop('respondent_id',axis=1))\n",
    "\n",
    "imputer = KNNImputer(n_neighbors=3)\n",
    "\n",
    "# Fit and transform the data\n",
    "df_imputed = pd.DataFrame(imputer.fit_transform(x))\n",
    "\n",
    "\n",
    "from sklearn.preprocessing import StandardScaler\n",
    "\n",
    "scaler = StandardScaler()\n",
    "df_imputed = scaler.fit_transform(df_imputed)\n",
    "\n",
    "x_train, x_test, y_train, y_test = train_test_split(df_imputed, y, test_size=0.2, random_state=42)"
   ]
  },
  {
   "cell_type": "code",
   "execution_count": 4,
   "id": "feca1a97-9291-4635-a3dc-ee01055b0cd6",
   "metadata": {},
   "outputs": [
    {
     "data": {
      "text/html": [
       "<style>#sk-container-id-1 {color: black;}#sk-container-id-1 pre{padding: 0;}#sk-container-id-1 div.sk-toggleable {background-color: white;}#sk-container-id-1 label.sk-toggleable__label {cursor: pointer;display: block;width: 100%;margin-bottom: 0;padding: 0.3em;box-sizing: border-box;text-align: center;}#sk-container-id-1 label.sk-toggleable__label-arrow:before {content: \"▸\";float: left;margin-right: 0.25em;color: #696969;}#sk-container-id-1 label.sk-toggleable__label-arrow:hover:before {color: black;}#sk-container-id-1 div.sk-estimator:hover label.sk-toggleable__label-arrow:before {color: black;}#sk-container-id-1 div.sk-toggleable__content {max-height: 0;max-width: 0;overflow: hidden;text-align: left;background-color: #f0f8ff;}#sk-container-id-1 div.sk-toggleable__content pre {margin: 0.2em;color: black;border-radius: 0.25em;background-color: #f0f8ff;}#sk-container-id-1 input.sk-toggleable__control:checked~div.sk-toggleable__content {max-height: 200px;max-width: 100%;overflow: auto;}#sk-container-id-1 input.sk-toggleable__control:checked~label.sk-toggleable__label-arrow:before {content: \"▾\";}#sk-container-id-1 div.sk-estimator input.sk-toggleable__control:checked~label.sk-toggleable__label {background-color: #d4ebff;}#sk-container-id-1 div.sk-label input.sk-toggleable__control:checked~label.sk-toggleable__label {background-color: #d4ebff;}#sk-container-id-1 input.sk-hidden--visually {border: 0;clip: rect(1px 1px 1px 1px);clip: rect(1px, 1px, 1px, 1px);height: 1px;margin: -1px;overflow: hidden;padding: 0;position: absolute;width: 1px;}#sk-container-id-1 div.sk-estimator {font-family: monospace;background-color: #f0f8ff;border: 1px dotted black;border-radius: 0.25em;box-sizing: border-box;margin-bottom: 0.5em;}#sk-container-id-1 div.sk-estimator:hover {background-color: #d4ebff;}#sk-container-id-1 div.sk-parallel-item::after {content: \"\";width: 100%;border-bottom: 1px solid gray;flex-grow: 1;}#sk-container-id-1 div.sk-label:hover label.sk-toggleable__label {background-color: #d4ebff;}#sk-container-id-1 div.sk-serial::before {content: \"\";position: absolute;border-left: 1px solid gray;box-sizing: border-box;top: 0;bottom: 0;left: 50%;z-index: 0;}#sk-container-id-1 div.sk-serial {display: flex;flex-direction: column;align-items: center;background-color: white;padding-right: 0.2em;padding-left: 0.2em;position: relative;}#sk-container-id-1 div.sk-item {position: relative;z-index: 1;}#sk-container-id-1 div.sk-parallel {display: flex;align-items: stretch;justify-content: center;background-color: white;position: relative;}#sk-container-id-1 div.sk-item::before, #sk-container-id-1 div.sk-parallel-item::before {content: \"\";position: absolute;border-left: 1px solid gray;box-sizing: border-box;top: 0;bottom: 0;left: 50%;z-index: -1;}#sk-container-id-1 div.sk-parallel-item {display: flex;flex-direction: column;z-index: 1;position: relative;background-color: white;}#sk-container-id-1 div.sk-parallel-item:first-child::after {align-self: flex-end;width: 50%;}#sk-container-id-1 div.sk-parallel-item:last-child::after {align-self: flex-start;width: 50%;}#sk-container-id-1 div.sk-parallel-item:only-child::after {width: 0;}#sk-container-id-1 div.sk-dashed-wrapped {border: 1px dashed gray;margin: 0 0.4em 0.5em 0.4em;box-sizing: border-box;padding-bottom: 0.4em;background-color: white;}#sk-container-id-1 div.sk-label label {font-family: monospace;font-weight: bold;display: inline-block;line-height: 1.2em;}#sk-container-id-1 div.sk-label-container {text-align: center;}#sk-container-id-1 div.sk-container {/* jupyter's `normalize.less` sets `[hidden] { display: none; }` but bootstrap.min.css set `[hidden] { display: none !important; }` so we also need the `!important` here to be able to override the default hidden behavior on the sphinx rendered scikit-learn.org. See: https://github.com/scikit-learn/scikit-learn/issues/21755 */display: inline-block !important;position: relative;}#sk-container-id-1 div.sk-text-repr-fallback {display: none;}</style><div id=\"sk-container-id-1\" class=\"sk-top-container\"><div class=\"sk-text-repr-fallback\"><pre>LogisticRegression()</pre><b>In a Jupyter environment, please rerun this cell to show the HTML representation or trust the notebook. <br />On GitHub, the HTML representation is unable to render, please try loading this page with nbviewer.org.</b></div><div class=\"sk-container\" hidden><div class=\"sk-item\"><div class=\"sk-estimator sk-toggleable\"><input class=\"sk-toggleable__control sk-hidden--visually\" id=\"sk-estimator-id-1\" type=\"checkbox\" checked><label for=\"sk-estimator-id-1\" class=\"sk-toggleable__label sk-toggleable__label-arrow\">LogisticRegression</label><div class=\"sk-toggleable__content\"><pre>LogisticRegression()</pre></div></div></div></div></div>"
      ],
      "text/plain": [
       "LogisticRegression()"
      ]
     },
     "execution_count": 4,
     "metadata": {},
     "output_type": "execute_result"
    }
   ],
   "source": [
    "model_1 ,model_2= LogisticRegression(),LogisticRegression()\n",
    "model_1.fit(x_train, y_train[:,0])\n",
    "model_2.fit(x_train, y_train[:,1])"
   ]
  },
  {
   "cell_type": "code",
   "execution_count": 5,
   "id": "27fbea2f-e327-417e-8484-0346f8ee5777",
   "metadata": {},
   "outputs": [
    {
     "name": "stdout",
     "output_type": "stream",
     "text": [
      "Accuracy: 0.8375140396855111\n",
      "Precision: 0.6920821114369502\n",
      "Recall: 0.4176991150442478\n",
      "F1 Score: 0.5209713024282561\n",
      "Accuracy: 0.780980906027705\n",
      "Precision: 0.7722056948576286\n",
      "Recall: 0.7413300693594451\n",
      "F1 Score: 0.7564529558701082\n"
     ]
    }
   ],
   "source": [
    "y_pred= model_1.predict(x_test)\n",
    "# Evaluate the model\n",
    "print(\"Accuracy:\", metrics.accuracy_score(y_test[:,0], y_pred))\n",
    "print(\"Precision:\", metrics.precision_score(y_test[:,0], y_pred))\n",
    "print(\"Recall:\", metrics.recall_score(y_test[:,0], y_pred))\n",
    "print(\"F1 Score:\", metrics.f1_score(y_test[:,0], y_pred))\n",
    "\n",
    "y_pred= model_2.predict(x_test)\n",
    "# Evaluate the model\n",
    "print(\"Accuracy:\", metrics.accuracy_score(y_test[:,1], y_pred))\n",
    "print(\"Precision:\", metrics.precision_score(y_test[:,1], y_pred))\n",
    "print(\"Recall:\", metrics.recall_score(y_test[:,1], y_pred))\n",
    "print(\"F1 Score:\", metrics.f1_score(y_test[:,1], y_pred))"
   ]
  },
  {
   "cell_type": "code",
   "execution_count": 11,
   "id": "a5569a16-8789-4c8d-b390-49fc1120e514",
   "metadata": {},
   "outputs": [],
   "source": [
    "summition = pd.read_csv('test_set_features.csv')"
   ]
  },
  {
   "cell_type": "code",
   "execution_count": 8,
   "id": "49400bde-afcc-4252-881c-608fb77c1d9f",
   "metadata": {},
   "outputs": [],
   "source": [
    "summition.drop(columns=['marital_status','employment_occupation','employment_industry','hhs_geo_region','marital_status'],inplace=True)\n",
    "\n",
    "summition= pd.concat((summition.drop(columns=object_columns),pd.get_dummies(summition[object_columns]).astype(int)),axis=1)\n",
    "\n",
    "\n",
    "\n",
    "# Fit and transform the data\n",
    "summition = pd.DataFrame(imputer.fit_transform(summition), columns=summition.columns)\n",
    "\n",
    "summition= np.array(summition.drop('respondent_id',axis=1))\n",
    "\n",
    "from sklearn.preprocessing import StandardScaler\n",
    "\n",
    "scaler = StandardScaler()\n",
    "summition = scaler.fit_transform(summition)\n"
   ]
  },
  {
   "cell_type": "code",
   "execution_count": 9,
   "id": "76ba4507-7492-47f8-a9c3-be1113fdb844",
   "metadata": {},
   "outputs": [],
   "source": [
    "p1,pr2= model_1.predict(summition),model_2.predict(summition)"
   ]
  },
  {
   "cell_type": "code",
   "execution_count": 12,
   "id": "34d58f69-21d7-489d-b75b-eee8ae9533f0",
   "metadata": {},
   "outputs": [],
   "source": [
    " final_result=pd.DataFrame(np.concatenate((np.array(summition.respondent_id).reshape(26708,1),p1.reshape(26708,1),pr2.reshape(26708,1)),axis=1),columns=['respondent_id','xyz_vaccine','seasonal_vaccine'])"
   ]
  },
  {
   "cell_type": "code",
   "execution_count": 13,
   "id": "59394b65-11f7-46c6-8472-301e77e35751",
   "metadata": {},
   "outputs": [],
   "source": [
    "final_result.to_csv('summition.csv',index=False)"
   ]
  },
  {
   "cell_type": "code",
   "execution_count": null,
   "id": "fc10e6be-3bbc-4608-8c72-f6587b317d49",
   "metadata": {},
   "outputs": [],
   "source": []
  }
 ],
 "metadata": {
  "kernelspec": {
   "display_name": "Python 3 (ipykernel)",
   "language": "python",
   "name": "python3"
  },
  "language_info": {
   "codemirror_mode": {
    "name": "ipython",
    "version": 3
   },
   "file_extension": ".py",
   "mimetype": "text/x-python",
   "name": "python",
   "nbconvert_exporter": "python",
   "pygments_lexer": "ipython3",
   "version": "3.10.12"
  }
 },
 "nbformat": 4,
 "nbformat_minor": 5
}
